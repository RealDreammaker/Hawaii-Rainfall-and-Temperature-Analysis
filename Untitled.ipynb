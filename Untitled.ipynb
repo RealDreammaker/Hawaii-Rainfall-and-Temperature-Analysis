{
 "cells": [
  {
   "cell_type": "code",
   "execution_count": 19,
   "id": "6a7245b3-8c14-4306-a175-231539484da4",
   "metadata": {},
   "outputs": [
    {
     "data": {
      "image/png": "[encoded data removed]",
      "text/plain": [
       "<Figure size 432x288 with 1 Axes>"
      ]
     },
     "metadata": {
      "needs_background": "light"
     },
     "output_type": "display_data"
    }
   ],
   "source": [
    "import matplotlib.pyplot as plt\n",
    " \n",
    "#data\n",
    "x = [1]\n",
    "h = [10]\n",
    " \n",
    "#bar plot\n",
    "plt.bar(x, height = h, width = 0.1)\n",
    "plt.xlim(0.5,1.5) \n",
    "plt.show()"
   ]
  },
  {
   "cell_type": "code",
   "execution_count": null,
   "id": "17a71831-1d68-4c61-bf87-dbf658681b9d",
   "metadata": {},
   "outputs": [],
   "source": []
  }
 ],
 "metadata": {
  "kernelspec": {
   "display_name": "Python 3",
   "language": "python",
   "name": "python3"
  },
  "language_info": {
   "codemirror_mode": {
    "name": "ipython",
    "version": 3
   },
   "file_extension": ".py",
   "mimetype": "text/x-python",
   "name": "python",
   "nbconvert_exporter": "python",
   "pygments_lexer": "ipython3",
   "version": "3.8.8"
  }
 },
 "nbformat": 4,
 "nbformat_minor": 5
}
